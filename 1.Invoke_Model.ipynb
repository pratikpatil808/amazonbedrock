{
 "cells": [
  {
   "cell_type": "markdown",
   "id": "f9fe34f8-7ea3-497b-aa39-bf8c7399980b",
   "metadata": {
    "editable": true,
    "slideshow": {
     "slide_type": ""
    },
    "tags": []
   },
   "source": [
    "# Amazon Bedrock API - Invoke Foundation Model"
   ]
  },
  {
   "cell_type": "code",
   "execution_count": 2,
   "id": "e9ef9d2a-3c58-45e1-992e-7a408fd5fb30",
   "metadata": {
    "editable": true,
    "slideshow": {
     "slide_type": ""
    },
    "tags": []
   },
   "outputs": [],
   "source": [
    "import boto3"
   ]
  },
  {
   "cell_type": "markdown",
   "id": "c30dcc71-1023-4ab4-9df7-af7ec4545b51",
   "metadata": {},
   "source": [
    "Import AWS SDK for Python (Boto3) to interact with AWS services, programmatically through their APIs.\n",
    "\n",
    "AWS APIs speak \"HTTP/REST language\" | \n",
    "Your Python code speaks \"Python language\" |\n",
    "Boto3 translates between them, making your life easier!"
   ]
  },
  {
   "cell_type": "code",
   "execution_count": 3,
   "id": "39365f09-bc2b-483a-9ae1-1b7762b13de0",
   "metadata": {},
   "outputs": [],
   "source": [
    "import json"
   ]
  },
  {
   "cell_type": "markdown",
   "id": "fbc37f92-3fe0-415d-9d5a-535cd355f9b3",
   "metadata": {},
   "source": [
    "JSON (JavaScript Object Notation) is used in Bedrock API calls -> Industry-standard format for AWS API communications. \n",
    "Ensures consistent data exchange. \n",
    "Supported by all programming languages. \n",
    "Organized way to specify model settings and inputs."
   ]
  },
  {
   "cell_type": "markdown",
   "id": "fdd7514f-17fe-4f58-8c6e-542b56f9786d",
   "metadata": {},
   "source": [
    "Create an AWS service client using the AWS SDK for Python (Boto3)"
   ]
  },
  {
   "cell_type": "markdown",
   "id": "988c85ec-0dd0-4486-82e7-0839aeac76b6",
   "metadata": {},
   "source": [
    "Specifies that we want to interact with Amazon Bedrock's runtime service.\n",
    "Used for making real-time inference requests to Bedrock models"
   ]
  },
  {
   "cell_type": "markdown",
   "id": "5bdfaf12-5bcd-4f0c-9349-74fb70f04fed",
   "metadata": {},
   "source": [
    "Think of it this way: Creating a client is like setting up a direct phone line to talk to Amazon Bedrock. Without having to set up the connection each time."
   ]
  },
  {
   "cell_type": "markdown",
   "id": "d7be5f8c-5020-4f8d-802e-e9aa7792cfdd",
   "metadata": {},
   "source": [
    "When we create a client using boto3, we typically store it in a variable (in this case \"bedrock_runtime\"), so we can reuse this connection. This variable becomes our communication channel with Amazon Bedrock. Think of it like saving a phone number in your contacts."
   ]
  },
  {
   "cell_type": "code",
   "execution_count": 4,
   "id": "eb50864c-8b6c-47fa-8fd8-50e5f64a81de",
   "metadata": {},
   "outputs": [],
   "source": [
    "bedrock_runtime = boto3.client(\n",
    "    service_name=\"bedrock-runtime\",\n",
    "    region_name=\"us-east-1\"\n",
    ")"
   ]
  },
  {
   "cell_type": "markdown",
   "id": "c8fe7597-ee05-47cb-8e39-3dfea99a68bc",
   "metadata": {},
   "source": [
    "A low-level client representing Amazon Bedrock"
   ]
  },
  {
   "cell_type": "markdown",
   "id": "5973a3b3-b764-4c45-b6d9-f1b1e813da9b",
   "metadata": {},
   "source": [
    "The \"bedrock-runtime\" is the data plane API for Amazon Bedrock, while the regular \"bedrock\" client represents the control plane API."
   ]
  },
  {
   "cell_type": "markdown",
   "id": "bccd2e84-e1eb-446a-8097-1d92d610eab6",
   "metadata": {},
   "source": [
    "Data Plane (bedrock-runtime):\n",
    "Handles actual model inference operations.\n",
    "Used for real-time interactions with the models.\n",
    "Manages the flow of data (sending prompts, receiving responses).\n",
    "\n",
    "Control Plane (bedrock):\n",
    "Handles administrative and management operations.\n",
    "Used for configuring resources.\n",
    "Managing model deployments.\n",
    "Setting up permissions and configurations."
   ]
  },
  {
   "cell_type": "code",
   "execution_count": 5,
   "id": "6237e9af-86b7-4a96-aa1f-07371b5c5637",
   "metadata": {},
   "outputs": [],
   "source": [
    "prompt = \"what is your name\""
   ]
  },
  {
   "cell_type": "markdown",
   "id": "92077a21-0b63-488d-a9be-e547a2c79e41",
   "metadata": {},
   "source": [
    "To prepare a text prompt that will be sent to an AWS Bedrock model for inference using the bedrock-runtime client. "
   ]
  },
  {
   "cell_type": "code",
   "execution_count": 6,
   "id": "347bcf7d-d0d9-47bf-8c4b-e55af11bf7f1",
   "metadata": {},
   "outputs": [],
   "source": [
    "request_body = json.dumps({\n",
    "    \"inputText\": prompt,\n",
    "    \"textGenerationConfig\": {\n",
    "        \"maxTokenCount\": 256,\n",
    "        \"temperature\": 0.7,\n",
    "        \"topP\": 1,\n",
    "        \"stopSequences\": []\n",
    "    }\n",
    "})"
   ]
  },
  {
   "cell_type": "markdown",
   "id": "5d8d37b6-1753-4f56-b566-6147bbb5f740",
   "metadata": {},
   "source": [
    "This is a JSON request body being prepared for an AWS Bedrock API call."
   ]
  },
  {
   "cell_type": "markdown",
   "id": "e58a58e6-933d-4f21-8bcd-c9c3954beea9",
   "metadata": {},
   "source": [
    "json.dumps() converts the Python dictionary into a JSON string."
   ]
  },
  {
   "cell_type": "markdown",
   "id": "93bb6fbc-0c73-4b71-bf94-6ee63ee1a38c",
   "metadata": {},
   "source": [
    " request_body is a Python variable that stores the JSON-formatted configuration data."
   ]
  },
  {
   "cell_type": "markdown",
   "id": "36bb55eb-c6db-4c07-a3ba-0375ef5202f2",
   "metadata": {},
   "source": [
    "The structure follows AWS Bedrock's API requirements."
   ]
  },
  {
   "cell_type": "code",
   "execution_count": 7,
   "id": "7784c71d-b69e-469f-acd4-d7ab68b60cdc",
   "metadata": {},
   "outputs": [
    {
     "name": "stdout",
     "output_type": "stream",
     "text": [
      "{\"inputText\": \"what is your name\", \"textGenerationConfig\": {\"maxTokenCount\": 256, \"temperature\": 0.7, \"topP\": 1, \"stopSequences\": []}}\n"
     ]
    }
   ],
   "source": [
    "print (request_body)"
   ]
  },
  {
   "cell_type": "markdown",
   "id": "5f837de3-a79f-436f-a75f-563db9a753a4",
   "metadata": {},
   "source": [
    "Prepare AWS Bedrock API call using the bedrock-runtime client to invoke an AI model."
   ]
  },
  {
   "cell_type": "code",
   "execution_count": 8,
   "id": "efe0c47b-d91b-43c4-b124-33e837f7ff8d",
   "metadata": {},
   "outputs": [],
   "source": [
    "response = bedrock_runtime.invoke_model(\n",
    "    modelId='amazon.titan-text-express-v1',\n",
    "    body=request_body,\n",
    "    contentType='application/json',\n",
    "    accept='application/json'\n",
    ")"
   ]
  },
  {
   "cell_type": "markdown",
   "id": "eb3c4ba4-906e-4c41-8e54-0c8068375f90",
   "metadata": {},
   "source": [
    "The response is stored in a variable called \"response\".\n",
    "\n",
    "\"invoke_model()\" is the method that sends the request to the Bedrock service\n",
    "Parameters:\n",
    "\n",
    "\"modelId\": Specifies using Amazon's Titan text model\n",
    "\n",
    "\"body\": Uses our previously prepared \"request_body\"\n",
    "\n",
    "\"contentType\": Tells the API we're sending JSON\n",
    "\n",
    "\"accept\": Tells the API we want JSON back"
   ]
  },
  {
   "cell_type": "markdown",
   "id": "cfd9ac19-6bcc-4212-89dc-4df14f71eebd",
   "metadata": {},
   "source": [
    "To see the response from the Bedrock API call, you'll need to parse the JSON response."
   ]
  },
  {
   "cell_type": "code",
   "execution_count": 10,
   "id": "0087f616-8269-4ef8-b98b-1bf4b3256519",
   "metadata": {},
   "outputs": [],
   "source": [
    "response_body = json.loads(response.get('body').read())"
   ]
  },
  {
   "cell_type": "markdown",
   "id": "d2b5c6ab-9b29-4951-8a77-a7eba856e52b",
   "metadata": {},
   "source": [
    "\"response.get('body')\" - Gets the body of the response object\n",
    "\n",
    "\".read()\" - Reads the content of the response body\n",
    "\n",
    "\"json.loads()\" - Converts (parses) a JSON string into a Python dictionary\n"
   ]
  },
  {
   "cell_type": "code",
   "execution_count": 11,
   "id": "4a2e1dad-62e0-418d-a8db-5f05ee6cfd8e",
   "metadata": {},
   "outputs": [
    {
     "name": "stdout",
     "output_type": "stream",
     "text": [
      "{'inputTextTokenCount': 4, 'results': [{'tokenCount': 35, 'outputText': '\\nI am Amazon Titan, a large language model built by AWS. It can assist you with tasks and answer any questions you may have. How may I help you?', 'completionReason': 'FINISH'}]}\n"
     ]
    }
   ],
   "source": [
    "print(response_body)"
   ]
  },
  {
   "cell_type": "code",
   "execution_count": 12,
   "id": "aee3663e-cde9-494c-af68-23ec8d5542f9",
   "metadata": {},
   "outputs": [],
   "source": [
    "completion = response_body.get('results')[0].get('outputText')"
   ]
  },
  {
   "cell_type": "markdown",
   "id": "3ba2cd4e-f91e-41f3-8282-ddb4e7337bb6",
   "metadata": {},
   "source": [
    "This line is extracting specific data from the parsed JSON response from AWS Bedrock."
   ]
  },
  {
   "cell_type": "markdown",
   "id": "f574b29d-012a-498f-adf5-7c829021f5f9",
   "metadata": {},
   "source": [
    "\"response_body.get('results')\" - Gets the 'results' array from the response_body dictionary.\n",
    "\n",
    "\"[0]\" - Accesses the first item in the 'results' array.\n",
    "\n",
    "\".get('outputText')\" - Gets the value associated with the 'outputText' key from that first result"
   ]
  },
  {
   "cell_type": "code",
   "execution_count": 14,
   "id": "d3d17775-52bc-444a-9fde-5ac49a2b2605",
   "metadata": {},
   "outputs": [
    {
     "name": "stdout",
     "output_type": "stream",
     "text": [
      "\n",
      "I am Amazon Titan, a large language model built by AWS. It can assist you with tasks and answer any questions you may have. How may I help you?\n"
     ]
    }
   ],
   "source": [
    "print(completion)"
   ]
  }
 ],
 "metadata": {
  "kernelspec": {
   "display_name": "Python 3 (ipykernel)",
   "language": "python",
   "name": "python3"
  },
  "language_info": {
   "codemirror_mode": {
    "name": "ipython",
    "version": 3
   },
   "file_extension": ".py",
   "mimetype": "text/x-python",
   "name": "python",
   "nbconvert_exporter": "python",
   "pygments_lexer": "ipython3",
   "version": "3.11.9"
  }
 },
 "nbformat": 4,
 "nbformat_minor": 5
}
